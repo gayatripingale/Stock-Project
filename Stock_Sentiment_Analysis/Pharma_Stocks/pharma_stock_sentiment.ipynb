{
 "cells": [
  {
   "cell_type": "code",
   "execution_count": 29,
   "metadata": {
    "collapsed": true
   },
   "outputs": [],
   "source": [
    "# Dependencies\n",
    "import tweepy\n",
    "import json\n",
    "import pandas as pd\n",
    "import numpy as np\n",
    "import matplotlib.pyplot as plt\n",
    "import pandas_datareader.data as web\n",
    "from datetime import datetime\n",
    "import datetime\n",
    "import time\n",
    "import seaborn as sns\n",
    "import pandas_datareader.data as web"
   ]
  },
  {
   "cell_type": "code",
   "execution_count": 30,
   "metadata": {
    "collapsed": true
   },
   "outputs": [],
   "source": [
    "# Import and Initialize Sentiment Analyzer\n",
    "from vaderSentiment.vaderSentiment import SentimentIntensityAnalyzer\n",
    "analyzer = SentimentIntensityAnalyzer()"
   ]
  },
  {
   "cell_type": "code",
   "execution_count": 31,
   "metadata": {
    "collapsed": true
   },
   "outputs": [],
   "source": [
    "# Twitter API Keys\n",
    "from config import consumer_key, consumer_secret, \\\n",
    "    access_token, access_token_secret\n",
    "\n",
    "# Setup Tweepy API Authentication\n",
    "auth = tweepy.OAuthHandler(consumer_key, consumer_secret)\n",
    "auth.set_access_token(access_token, access_token_secret)\n",
    "api = tweepy.API(auth, parser=tweepy.parsers.JSONParser())"
   ]
  },
  {
   "cell_type": "code",
   "execution_count": 32,
   "metadata": {
    "collapsed": true
   },
   "outputs": [],
   "source": [
    "# Filters\n",
    "min_tweets = 5\n",
    "lang = \"en\""
   ]
  },
  {
   "cell_type": "code",
   "execution_count": 33,
   "metadata": {
    "collapsed": true
   },
   "outputs": [],
   "source": [
    "# Search terms\n",
    "search_terms = [\"$BMY\", \"$MRK\", \"$PFE\", \"$JNJ\", \"$CELG\"]\n",
    "search_terms1 = [\"BMY\", \"MRK\", \"PFE\", \"JNJ\", \"CELG\"]\n",
    "\n",
    "# target_users = \"@cnbc \" or \"@benzinga\" or \"@stocktwits\"\n",
    "\n",
    "# target_users = \"@cnbc \" or \"@benzinga\" or \"@stocktwits\" or \"@breakoutstocks\" \\\n",
    "#               or \"@bespokeinvest\" or \"@WSJMarkets\" or \"@stephanie_link\" or \\\n",
    "#              \"@nytimesbusiness\" or \"@IBDinvestors \" or \"@WSJDealJournal\""
   ]
  },
  {
   "cell_type": "code",
   "execution_count": 34,
   "metadata": {
    "scrolled": false
   },
   "outputs": [
    {
     "data": {
      "text/html": [
       "<div>\n",
       "<style>\n",
       "    .dataframe thead tr:only-child th {\n",
       "        text-align: right;\n",
       "    }\n",
       "\n",
       "    .dataframe thead th {\n",
       "        text-align: left;\n",
       "    }\n",
       "\n",
       "    .dataframe tbody tr th {\n",
       "        vertical-align: top;\n",
       "    }\n",
       "</style>\n",
       "<table border=\"1\" class=\"dataframe\">\n",
       "  <thead>\n",
       "    <tr style=\"text-align: right;\">\n",
       "      <th></th>\n",
       "      <th></th>\n",
       "      <th>Open</th>\n",
       "      <th>Close</th>\n",
       "    </tr>\n",
       "    <tr>\n",
       "      <th>Symbol</th>\n",
       "      <th>Date</th>\n",
       "      <th></th>\n",
       "      <th></th>\n",
       "    </tr>\n",
       "  </thead>\n",
       "  <tbody>\n",
       "    <tr>\n",
       "      <th rowspan=\"3\" valign=\"top\">BMY</th>\n",
       "      <th>2018-03-07</th>\n",
       "      <td>64.90</td>\n",
       "      <td>66.10</td>\n",
       "    </tr>\n",
       "    <tr>\n",
       "      <th>2018-03-08</th>\n",
       "      <td>66.20</td>\n",
       "      <td>66.75</td>\n",
       "    </tr>\n",
       "    <tr>\n",
       "      <th>2018-03-09</th>\n",
       "      <td>66.95</td>\n",
       "      <td>67.92</td>\n",
       "    </tr>\n",
       "    <tr>\n",
       "      <th rowspan=\"2\" valign=\"top\">MRK</th>\n",
       "      <th>2018-03-07</th>\n",
       "      <td>53.84</td>\n",
       "      <td>54.47</td>\n",
       "    </tr>\n",
       "    <tr>\n",
       "      <th>2018-03-08</th>\n",
       "      <td>54.52</td>\n",
       "      <td>54.76</td>\n",
       "    </tr>\n",
       "  </tbody>\n",
       "</table>\n",
       "</div>"
      ],
      "text/plain": [
       "                    Open  Close\n",
       "Symbol Date                    \n",
       "BMY    2018-03-07  64.90  66.10\n",
       "       2018-03-08  66.20  66.75\n",
       "       2018-03-09  66.95  67.92\n",
       "MRK    2018-03-07  53.84  54.47\n",
       "       2018-03-08  54.52  54.76"
      ]
     },
     "execution_count": 34,
     "metadata": {},
     "output_type": "execute_result"
    }
   ],
   "source": [
    "# Date and time range\n",
    "start = datetime.datetime(2018, 3, 7)\n",
    "end = datetime.datetime(2018, 3, 9)\n",
    "\n",
    "# Get Stock Data from Morningstar\n",
    "stock_data = web.DataReader(search_terms1, \"morningstar\", start, end)\n",
    "\n",
    "# Put Open and Close Data into Pandas DataFrame\n",
    "df = pd.DataFrame(stock_data)[[\"Open\", \"Close\"]]\n",
    "df.head()"
   ]
  },
  {
   "cell_type": "code",
   "execution_count": null,
   "metadata": {
    "collapsed": true,
    "scrolled": true
   },
   "outputs": [],
   "source": []
  },
  {
   "cell_type": "code",
   "execution_count": 35,
   "metadata": {
    "scrolled": false
   },
   "outputs": [
    {
     "data": {
      "text/html": [
       "<div>\n",
       "<style>\n",
       "    .dataframe thead tr:only-child th {\n",
       "        text-align: right;\n",
       "    }\n",
       "\n",
       "    .dataframe thead th {\n",
       "        text-align: left;\n",
       "    }\n",
       "\n",
       "    .dataframe tbody tr th {\n",
       "        vertical-align: top;\n",
       "    }\n",
       "</style>\n",
       "<table border=\"1\" class=\"dataframe\">\n",
       "  <thead>\n",
       "    <tr style=\"text-align: right;\">\n",
       "      <th></th>\n",
       "      <th></th>\n",
       "      <th>Open</th>\n",
       "      <th>Close</th>\n",
       "      <th>Diff</th>\n",
       "      <th>Percent_Diff</th>\n",
       "    </tr>\n",
       "    <tr>\n",
       "      <th>Symbol</th>\n",
       "      <th>Date</th>\n",
       "      <th></th>\n",
       "      <th></th>\n",
       "      <th></th>\n",
       "      <th></th>\n",
       "    </tr>\n",
       "  </thead>\n",
       "  <tbody>\n",
       "    <tr>\n",
       "      <th rowspan=\"3\" valign=\"top\">BMY</th>\n",
       "      <th>2018-03-07</th>\n",
       "      <td>64.90</td>\n",
       "      <td>66.10</td>\n",
       "      <td>1.20</td>\n",
       "      <td>1.848998</td>\n",
       "    </tr>\n",
       "    <tr>\n",
       "      <th>2018-03-08</th>\n",
       "      <td>66.20</td>\n",
       "      <td>66.75</td>\n",
       "      <td>0.55</td>\n",
       "      <td>0.830816</td>\n",
       "    </tr>\n",
       "    <tr>\n",
       "      <th>2018-03-09</th>\n",
       "      <td>66.95</td>\n",
       "      <td>67.92</td>\n",
       "      <td>0.97</td>\n",
       "      <td>1.448842</td>\n",
       "    </tr>\n",
       "    <tr>\n",
       "      <th rowspan=\"2\" valign=\"top\">MRK</th>\n",
       "      <th>2018-03-07</th>\n",
       "      <td>53.84</td>\n",
       "      <td>54.47</td>\n",
       "      <td>0.63</td>\n",
       "      <td>1.170134</td>\n",
       "    </tr>\n",
       "    <tr>\n",
       "      <th>2018-03-08</th>\n",
       "      <td>54.52</td>\n",
       "      <td>54.76</td>\n",
       "      <td>0.24</td>\n",
       "      <td>0.440205</td>\n",
       "    </tr>\n",
       "  </tbody>\n",
       "</table>\n",
       "</div>"
      ],
      "text/plain": [
       "                    Open  Close  Diff  Percent_Diff\n",
       "Symbol Date                                        \n",
       "BMY    2018-03-07  64.90  66.10  1.20      1.848998\n",
       "       2018-03-08  66.20  66.75  0.55      0.830816\n",
       "       2018-03-09  66.95  67.92  0.97      1.448842\n",
       "MRK    2018-03-07  53.84  54.47  0.63      1.170134\n",
       "       2018-03-08  54.52  54.76  0.24      0.440205"
      ]
     },
     "execution_count": 35,
     "metadata": {},
     "output_type": "execute_result"
    }
   ],
   "source": [
    "df[\"Diff\"] = df[\"Close\"] - df[\"Open\"]\n",
    "#df.head()\n",
    "\n",
    "df[\"Percent_Diff\"] = (df[\"Diff\"]/df[\"Open\"])*100\n",
    "df.head()"
   ]
  },
  {
   "cell_type": "code",
   "execution_count": 36,
   "metadata": {
    "scrolled": true
   },
   "outputs": [
    {
     "data": {
      "text/plain": [
       "Symbol\n",
       "BMY     4.128657\n",
       "CELG    3.391276\n",
       "JNJ     4.308112\n",
       "MRK     1.810230\n",
       "PFE     2.781066\n",
       "Name: Percent_Diff, dtype: float64"
      ]
     },
     "execution_count": 36,
     "metadata": {},
     "output_type": "execute_result"
    }
   ],
   "source": [
    "# Calculate total stock price change within the date specified\n",
    "df1 = df.groupby(\"Symbol\")[\"Percent_Diff\"].sum()\n",
    "df1"
   ]
  },
  {
   "cell_type": "code",
   "execution_count": 37,
   "metadata": {
    "scrolled": true
   },
   "outputs": [
    {
     "data": {
      "text/html": [
       "<div>\n",
       "<style>\n",
       "    .dataframe thead tr:only-child th {\n",
       "        text-align: right;\n",
       "    }\n",
       "\n",
       "    .dataframe thead th {\n",
       "        text-align: left;\n",
       "    }\n",
       "\n",
       "    .dataframe tbody tr th {\n",
       "        vertical-align: top;\n",
       "    }\n",
       "</style>\n",
       "<table border=\"1\" class=\"dataframe\">\n",
       "  <thead>\n",
       "    <tr style=\"text-align: right;\">\n",
       "      <th></th>\n",
       "      <th>Percent_Diff</th>\n",
       "    </tr>\n",
       "    <tr>\n",
       "      <th>Symbol</th>\n",
       "      <th></th>\n",
       "    </tr>\n",
       "  </thead>\n",
       "  <tbody>\n",
       "    <tr>\n",
       "      <th>BMY</th>\n",
       "      <td>4.128657</td>\n",
       "    </tr>\n",
       "    <tr>\n",
       "      <th>CELG</th>\n",
       "      <td>3.391276</td>\n",
       "    </tr>\n",
       "    <tr>\n",
       "      <th>JNJ</th>\n",
       "      <td>4.308112</td>\n",
       "    </tr>\n",
       "    <tr>\n",
       "      <th>MRK</th>\n",
       "      <td>1.810230</td>\n",
       "    </tr>\n",
       "    <tr>\n",
       "      <th>PFE</th>\n",
       "      <td>2.781066</td>\n",
       "    </tr>\n",
       "  </tbody>\n",
       "</table>\n",
       "</div>"
      ],
      "text/plain": [
       "        Percent_Diff\n",
       "Symbol              \n",
       "BMY         4.128657\n",
       "CELG        3.391276\n",
       "JNJ         4.308112\n",
       "MRK         1.810230\n",
       "PFE         2.781066"
      ]
     },
     "execution_count": 37,
     "metadata": {},
     "output_type": "execute_result"
    }
   ],
   "source": [
    "# Add data to Pandas DataFrame\n",
    "df_df = pd.DataFrame(df1)\n",
    "df_df"
   ]
  },
  {
   "cell_type": "code",
   "execution_count": 38,
   "metadata": {},
   "outputs": [
    {
     "data": {
      "text/html": [
       "<div>\n",
       "<style>\n",
       "    .dataframe thead tr:only-child th {\n",
       "        text-align: right;\n",
       "    }\n",
       "\n",
       "    .dataframe thead th {\n",
       "        text-align: left;\n",
       "    }\n",
       "\n",
       "    .dataframe tbody tr th {\n",
       "        vertical-align: top;\n",
       "    }\n",
       "</style>\n",
       "<table border=\"1\" class=\"dataframe\">\n",
       "  <thead>\n",
       "    <tr style=\"text-align: right;\">\n",
       "      <th></th>\n",
       "      <th>Symbol</th>\n",
       "      <th>Percent_Diff</th>\n",
       "    </tr>\n",
       "  </thead>\n",
       "  <tbody>\n",
       "    <tr>\n",
       "      <th>0</th>\n",
       "      <td>BMY</td>\n",
       "      <td>4.128657</td>\n",
       "    </tr>\n",
       "    <tr>\n",
       "      <th>1</th>\n",
       "      <td>CELG</td>\n",
       "      <td>3.391276</td>\n",
       "    </tr>\n",
       "    <tr>\n",
       "      <th>2</th>\n",
       "      <td>JNJ</td>\n",
       "      <td>4.308112</td>\n",
       "    </tr>\n",
       "    <tr>\n",
       "      <th>3</th>\n",
       "      <td>MRK</td>\n",
       "      <td>1.810230</td>\n",
       "    </tr>\n",
       "    <tr>\n",
       "      <th>4</th>\n",
       "      <td>PFE</td>\n",
       "      <td>2.781066</td>\n",
       "    </tr>\n",
       "  </tbody>\n",
       "</table>\n",
       "</div>"
      ],
      "text/plain": [
       "  Symbol  Percent_Diff\n",
       "0    BMY      4.128657\n",
       "1   CELG      3.391276\n",
       "2    JNJ      4.308112\n",
       "3    MRK      1.810230\n",
       "4    PFE      2.781066"
      ]
     },
     "execution_count": 38,
     "metadata": {},
     "output_type": "execute_result"
    }
   ],
   "source": [
    "# Reset index\n",
    "diff_df = df_df.reset_index(drop = False)\n",
    "diff_df"
   ]
  },
  {
   "cell_type": "code",
   "execution_count": 39,
   "metadata": {
    "collapsed": true
   },
   "outputs": [],
   "source": [
    "# Variables for holding sentiments\n",
    "sentiments = []"
   ]
  },
  {
   "cell_type": "code",
   "execution_count": 40,
   "metadata": {},
   "outputs": [
    {
     "data": {
      "text/plain": [
       "[{'Compound': 0.0,\n",
       "  'Date': 'Thu Mar 08 11:55:03 +0000 2018',\n",
       "  'Negative': 0.0,\n",
       "  'Neutral': 1.0,\n",
       "  'Positive': 0.0,\n",
       "  'Symbol': '$BMY',\n",
       "  'Tweet Text': 'Bank of America Increases Bristol-Myers Squibb $BMY Price Target to $68.00 https://t.co/CwwkASjorG',\n",
       "  'Tweets Ago': 1},\n",
       " {'Compound': -0.5106,\n",
       "  'Date': 'Wed Mar 07 17:28:47 +0000 2018',\n",
       "  'Negative': 0.231,\n",
       "  'Neutral': 0.769,\n",
       "  'Positive': 0.0,\n",
       "  'Symbol': '$BMY',\n",
       "  'Tweet Text': '$BMY Max Pain is 66.00 for maturity 03/09/2018. #maxpain #options https://t.co/tIC4bRrxG2 https://t.co/9KYnTs2rvt',\n",
       "  'Tweets Ago': 2},\n",
       " {'Compound': 0.0,\n",
       "  'Date': 'Wed Mar 07 07:13:47 +0000 2018',\n",
       "  'Negative': 0.0,\n",
       "  'Neutral': 1.0,\n",
       "  'Positive': 0.0,\n",
       "  'Symbol': '$BMY',\n",
       "  'Tweet Text': 'Bristol-Myers Squibb $BMY PT Raised to $68.00 at Bank of America https://t.co/898YB0R5yB',\n",
       "  'Tweets Ago': 3},\n",
       " {'Compound': 0.0,\n",
       "  'Date': 'Thu Mar 08 19:08:23 +0000 2018',\n",
       "  'Negative': 0.0,\n",
       "  'Neutral': 1.0,\n",
       "  'Positive': 0.0,\n",
       "  'Symbol': '$MRK',\n",
       "  'Tweet Text': 'BMO Capital Markets Analysts Give Merck &amp; Co., Inc. $MRK a $65.00 Price Target https://t.co/rKBFAx2oKC #stocks',\n",
       "  'Tweets Ago': 1},\n",
       " {'Compound': 0.0,\n",
       "  'Date': 'Thu Mar 08 18:13:59 +0000 2018',\n",
       "  'Negative': 0.0,\n",
       "  'Neutral': 1.0,\n",
       "  'Positive': 0.0,\n",
       "  'Symbol': '$MRK',\n",
       "  'Tweet Text': 'Merck &amp; Co., Inc. $MRK Given a $65.00 Price Target by BMO Capital Markets Analysts https://t.co/3kpJJyQfdW',\n",
       "  'Tweets Ago': 2},\n",
       " {'Compound': 0.0,\n",
       "  'Date': 'Thu Mar 08 18:12:33 +0000 2018',\n",
       "  'Negative': 0.0,\n",
       "  'Neutral': 1.0,\n",
       "  'Positive': 0.0,\n",
       "  'Symbol': '$MRK',\n",
       "  'Tweet Text': 'Merck &amp; Co., Inc. $MRK Given a $65.00 Price Target by BMO Capital Markets Analysts https://t.co/s8EhiOc4Rj',\n",
       "  'Tweets Ago': 3},\n",
       " {'Compound': 0.7269,\n",
       "  'Date': 'Wed Mar 07 15:34:14 +0000 2018',\n",
       "  'Negative': 0.0,\n",
       "  'Neutral': 0.711,\n",
       "  'Positive': 0.289,\n",
       "  'Symbol': '$MRK',\n",
       "  'Tweet Text': 'MRK continues to base near major support; https://t.co/oltzlxF1ev, encouraging action, added to longs this week, cl… https://t.co/GOAb0DNEbT',\n",
       "  'Tweets Ago': 4},\n",
       " {'Compound': -0.5106,\n",
       "  'Date': 'Wed Mar 07 12:35:08 +0000 2018',\n",
       "  'Negative': 0.231,\n",
       "  'Neutral': 0.769,\n",
       "  'Positive': 0.0,\n",
       "  'Symbol': '$MRK',\n",
       "  'Tweet Text': '$MRK Max Pain is 55.00 for maturity 03/09/2018. #maxpain #options https://t.co/udlIIOO9Qi https://t.co/uWpqQHbmUk',\n",
       "  'Tweets Ago': 5},\n",
       " {'Compound': 0.0,\n",
       "  'Date': 'Thu Mar 08 09:21:29 +0000 2018',\n",
       "  'Negative': 0.0,\n",
       "  'Neutral': 1.0,\n",
       "  'Positive': 0.0,\n",
       "  'Symbol': '$PFE',\n",
       "  'Tweet Text': 'Pfizer $PFE Given a $43.00 Price Target at BMO Capital Markets https://t.co/ablzZjgxjH',\n",
       "  'Tweets Ago': 1},\n",
       " {'Compound': -0.5106,\n",
       "  'Date': 'Wed Mar 07 18:20:08 +0000 2018',\n",
       "  'Negative': 0.231,\n",
       "  'Neutral': 0.769,\n",
       "  'Positive': 0.0,\n",
       "  'Symbol': '$PFE',\n",
       "  'Tweet Text': '$PFE Max Pain is 36.00 for maturity 03/09/2018. #maxpain #options https://t.co/LHdPkUPu0S https://t.co/Bd3ptj7wnf',\n",
       "  'Tweets Ago': 2},\n",
       " {'Compound': 0.0,\n",
       "  'Date': 'Wed Mar 07 12:17:28 +0000 2018',\n",
       "  'Negative': 0.0,\n",
       "  'Neutral': 1.0,\n",
       "  'Positive': 0.0,\n",
       "  'Symbol': '$PFE',\n",
       "  'Tweet Text': '$PFE\\n35.88 USD −0.25 (0.69%)\\nClosed: Mar 7, 7:00 AM EST · Disclaimer\\nPre-market 35.50 −0.38 (1.06%)',\n",
       "  'Tweets Ago': 3},\n",
       " {'Compound': 0.0,\n",
       "  'Date': 'Wed Mar 07 11:34:44 +0000 2018',\n",
       "  'Negative': 0.0,\n",
       "  'Neutral': 1.0,\n",
       "  'Positive': 0.0,\n",
       "  'Symbol': '$PFE',\n",
       "  'Tweet Text': 'Pfizer $PFE PT Set at $43.00 by BMO Capital Markets https://t.co/RMB6bq9rlT',\n",
       "  'Tweets Ago': 4},\n",
       " {'Compound': 0.0,\n",
       "  'Date': 'Wed Mar 07 11:56:44 +0000 2018',\n",
       "  'Negative': 0.0,\n",
       "  'Neutral': 1.0,\n",
       "  'Positive': 0.0,\n",
       "  'Symbol': '$JNJ',\n",
       "  'Tweet Text': '$JNJ high OI range is 130.00 to 131.00 for option expiration 03/09/2018 #maxpain #options https://t.co/zwtlawzYnD https://t.co/bldy0vNwym',\n",
       "  'Tweets Ago': 1},\n",
       " {'Compound': -0.5106,\n",
       "  'Date': 'Wed Mar 07 19:33:46 +0000 2018',\n",
       "  'Negative': 0.231,\n",
       "  'Neutral': 0.769,\n",
       "  'Positive': 0.0,\n",
       "  'Symbol': '$CELG',\n",
       "  'Tweet Text': '$CELG Max Pain is 90.00 for maturity 03/09/2018. #maxpain #options https://t.co/aK0l5DvWPc https://t.co/uyVtuIakdE',\n",
       "  'Tweets Ago': 1},\n",
       " {'Compound': 0.0,\n",
       "  'Date': 'Wed Mar 07 15:24:59 +0000 2018',\n",
       "  'Negative': 0.0,\n",
       "  'Neutral': 1.0,\n",
       "  'Positive': 0.0,\n",
       "  'Symbol': '$CELG',\n",
       "  'Tweet Text': 'RT @SpeedyCalls: $CELG APR 95.00 Calls BUYING Activity https://t.co/U2MVKajyGC',\n",
       "  'Tweets Ago': 2},\n",
       " {'Compound': 0.0,\n",
       "  'Date': 'Wed Mar 07 15:14:41 +0000 2018',\n",
       "  'Negative': 0.0,\n",
       "  'Neutral': 1.0,\n",
       "  'Positive': 0.0,\n",
       "  'Symbol': '$CELG',\n",
       "  'Tweet Text': '$CELG APR 95.00 Calls BUYING Activity https://t.co/U2MVKajyGC',\n",
       "  'Tweets Ago': 3}]"
      ]
     },
     "execution_count": 40,
     "metadata": {},
     "output_type": "execute_result"
    }
   ],
   "source": [
    "# Date Range\n",
    "startdate = datetime.datetime(2018, 3, 7, 0, 0, 0)\n",
    "enddate = datetime.datetime(2018, 3, 9, 0, 0, 0)\n",
    "\n",
    "# Loop through all search terms\n",
    "for term in search_terms:\n",
    "    \n",
    "    counter = 1\n",
    "    \n",
    "    public_tweets = api.search(term, count = 200, since = startdate, until = enddate)\n",
    "    \n",
    "    for tweet in public_tweets[\"statuses\"]:\n",
    "        \n",
    "        # Filter tweets\n",
    "        if (tweet[\"user\"][\"statuses_count\"] > min_tweets and\n",
    "            tweet[\"user\"][\"lang\"] == lang):\n",
    "        \n",
    "            # Run Vader Analysis on each tweets\n",
    "            compound = analyzer.polarity_scores(tweet[\"text\"])[\"compound\"]\n",
    "            pos = analyzer.polarity_scores(tweet[\"text\"])[\"pos\"]\n",
    "            neu = analyzer.polarity_scores(tweet[\"text\"])[\"neu\"]\n",
    "            neg = analyzer.polarity_scores(tweet[\"text\"])[\"neg\"]\n",
    "            tweets_ago = counter\n",
    "\n",
    "            # Add sentiments for each tweets into an array\n",
    "            sentiments.append({\"Compound\": compound,\n",
    "                               \"Positive\": pos,\n",
    "                               \"Neutral\": neu,\n",
    "                               \"Negative\": neg,\n",
    "                               \"Tweets Ago\": counter,\n",
    "                               \"Symbol\": term,\n",
    "                               \"Date\": tweet[\"created_at\"],\n",
    "                               \"Tweet Text\": tweet[\"text\"]})\n",
    "\n",
    "        # Add to counter\n",
    "        counter = counter + 1\n",
    "        \n",
    "sentiments"
   ]
  },
  {
   "cell_type": "code",
   "execution_count": 41,
   "metadata": {},
   "outputs": [
    {
     "data": {
      "text/html": [
       "<div>\n",
       "<style>\n",
       "    .dataframe thead tr:only-child th {\n",
       "        text-align: right;\n",
       "    }\n",
       "\n",
       "    .dataframe thead th {\n",
       "        text-align: left;\n",
       "    }\n",
       "\n",
       "    .dataframe tbody tr th {\n",
       "        vertical-align: top;\n",
       "    }\n",
       "</style>\n",
       "<table border=\"1\" class=\"dataframe\">\n",
       "  <thead>\n",
       "    <tr style=\"text-align: right;\">\n",
       "      <th></th>\n",
       "      <th>Compound</th>\n",
       "      <th>Date</th>\n",
       "      <th>Negative</th>\n",
       "      <th>Neutral</th>\n",
       "      <th>Positive</th>\n",
       "      <th>Symbol</th>\n",
       "      <th>Tweet Text</th>\n",
       "      <th>Tweets Ago</th>\n",
       "    </tr>\n",
       "  </thead>\n",
       "  <tbody>\n",
       "    <tr>\n",
       "      <th>0</th>\n",
       "      <td>0.0000</td>\n",
       "      <td>Thu Mar 08 11:55:03 +0000 2018</td>\n",
       "      <td>0.000</td>\n",
       "      <td>1.000</td>\n",
       "      <td>0.000</td>\n",
       "      <td>$BMY</td>\n",
       "      <td>Bank of America Increases Bristol-Myers Squibb...</td>\n",
       "      <td>1</td>\n",
       "    </tr>\n",
       "    <tr>\n",
       "      <th>1</th>\n",
       "      <td>-0.5106</td>\n",
       "      <td>Wed Mar 07 17:28:47 +0000 2018</td>\n",
       "      <td>0.231</td>\n",
       "      <td>0.769</td>\n",
       "      <td>0.000</td>\n",
       "      <td>$BMY</td>\n",
       "      <td>$BMY Max Pain is 66.00 for maturity 03/09/2018...</td>\n",
       "      <td>2</td>\n",
       "    </tr>\n",
       "    <tr>\n",
       "      <th>2</th>\n",
       "      <td>0.0000</td>\n",
       "      <td>Wed Mar 07 07:13:47 +0000 2018</td>\n",
       "      <td>0.000</td>\n",
       "      <td>1.000</td>\n",
       "      <td>0.000</td>\n",
       "      <td>$BMY</td>\n",
       "      <td>Bristol-Myers Squibb $BMY PT Raised to $68.00 ...</td>\n",
       "      <td>3</td>\n",
       "    </tr>\n",
       "    <tr>\n",
       "      <th>3</th>\n",
       "      <td>0.0000</td>\n",
       "      <td>Thu Mar 08 19:08:23 +0000 2018</td>\n",
       "      <td>0.000</td>\n",
       "      <td>1.000</td>\n",
       "      <td>0.000</td>\n",
       "      <td>$MRK</td>\n",
       "      <td>BMO Capital Markets Analysts Give Merck &amp;amp; ...</td>\n",
       "      <td>1</td>\n",
       "    </tr>\n",
       "    <tr>\n",
       "      <th>4</th>\n",
       "      <td>0.0000</td>\n",
       "      <td>Thu Mar 08 18:13:59 +0000 2018</td>\n",
       "      <td>0.000</td>\n",
       "      <td>1.000</td>\n",
       "      <td>0.000</td>\n",
       "      <td>$MRK</td>\n",
       "      <td>Merck &amp;amp; Co., Inc. $MRK Given a $65.00 Pric...</td>\n",
       "      <td>2</td>\n",
       "    </tr>\n",
       "    <tr>\n",
       "      <th>5</th>\n",
       "      <td>0.0000</td>\n",
       "      <td>Thu Mar 08 18:12:33 +0000 2018</td>\n",
       "      <td>0.000</td>\n",
       "      <td>1.000</td>\n",
       "      <td>0.000</td>\n",
       "      <td>$MRK</td>\n",
       "      <td>Merck &amp;amp; Co., Inc. $MRK Given a $65.00 Pric...</td>\n",
       "      <td>3</td>\n",
       "    </tr>\n",
       "    <tr>\n",
       "      <th>6</th>\n",
       "      <td>0.7269</td>\n",
       "      <td>Wed Mar 07 15:34:14 +0000 2018</td>\n",
       "      <td>0.000</td>\n",
       "      <td>0.711</td>\n",
       "      <td>0.289</td>\n",
       "      <td>$MRK</td>\n",
       "      <td>MRK continues to base near major support; http...</td>\n",
       "      <td>4</td>\n",
       "    </tr>\n",
       "    <tr>\n",
       "      <th>7</th>\n",
       "      <td>-0.5106</td>\n",
       "      <td>Wed Mar 07 12:35:08 +0000 2018</td>\n",
       "      <td>0.231</td>\n",
       "      <td>0.769</td>\n",
       "      <td>0.000</td>\n",
       "      <td>$MRK</td>\n",
       "      <td>$MRK Max Pain is 55.00 for maturity 03/09/2018...</td>\n",
       "      <td>5</td>\n",
       "    </tr>\n",
       "    <tr>\n",
       "      <th>8</th>\n",
       "      <td>0.0000</td>\n",
       "      <td>Thu Mar 08 09:21:29 +0000 2018</td>\n",
       "      <td>0.000</td>\n",
       "      <td>1.000</td>\n",
       "      <td>0.000</td>\n",
       "      <td>$PFE</td>\n",
       "      <td>Pfizer $PFE Given a $43.00 Price Target at BMO...</td>\n",
       "      <td>1</td>\n",
       "    </tr>\n",
       "    <tr>\n",
       "      <th>9</th>\n",
       "      <td>-0.5106</td>\n",
       "      <td>Wed Mar 07 18:20:08 +0000 2018</td>\n",
       "      <td>0.231</td>\n",
       "      <td>0.769</td>\n",
       "      <td>0.000</td>\n",
       "      <td>$PFE</td>\n",
       "      <td>$PFE Max Pain is 36.00 for maturity 03/09/2018...</td>\n",
       "      <td>2</td>\n",
       "    </tr>\n",
       "    <tr>\n",
       "      <th>10</th>\n",
       "      <td>0.0000</td>\n",
       "      <td>Wed Mar 07 12:17:28 +0000 2018</td>\n",
       "      <td>0.000</td>\n",
       "      <td>1.000</td>\n",
       "      <td>0.000</td>\n",
       "      <td>$PFE</td>\n",
       "      <td>$PFE\\n35.88 USD −0.25 (0.69%)\\nClosed: Mar 7, ...</td>\n",
       "      <td>3</td>\n",
       "    </tr>\n",
       "    <tr>\n",
       "      <th>11</th>\n",
       "      <td>0.0000</td>\n",
       "      <td>Wed Mar 07 11:34:44 +0000 2018</td>\n",
       "      <td>0.000</td>\n",
       "      <td>1.000</td>\n",
       "      <td>0.000</td>\n",
       "      <td>$PFE</td>\n",
       "      <td>Pfizer $PFE PT Set at $43.00 by BMO Capital Ma...</td>\n",
       "      <td>4</td>\n",
       "    </tr>\n",
       "    <tr>\n",
       "      <th>12</th>\n",
       "      <td>0.0000</td>\n",
       "      <td>Wed Mar 07 11:56:44 +0000 2018</td>\n",
       "      <td>0.000</td>\n",
       "      <td>1.000</td>\n",
       "      <td>0.000</td>\n",
       "      <td>$JNJ</td>\n",
       "      <td>$JNJ high OI range is 130.00 to 131.00 for opt...</td>\n",
       "      <td>1</td>\n",
       "    </tr>\n",
       "    <tr>\n",
       "      <th>13</th>\n",
       "      <td>-0.5106</td>\n",
       "      <td>Wed Mar 07 19:33:46 +0000 2018</td>\n",
       "      <td>0.231</td>\n",
       "      <td>0.769</td>\n",
       "      <td>0.000</td>\n",
       "      <td>$CELG</td>\n",
       "      <td>$CELG Max Pain is 90.00 for maturity 03/09/201...</td>\n",
       "      <td>1</td>\n",
       "    </tr>\n",
       "    <tr>\n",
       "      <th>14</th>\n",
       "      <td>0.0000</td>\n",
       "      <td>Wed Mar 07 15:24:59 +0000 2018</td>\n",
       "      <td>0.000</td>\n",
       "      <td>1.000</td>\n",
       "      <td>0.000</td>\n",
       "      <td>$CELG</td>\n",
       "      <td>RT @SpeedyCalls: $CELG APR 95.00 Calls BUYING ...</td>\n",
       "      <td>2</td>\n",
       "    </tr>\n",
       "    <tr>\n",
       "      <th>15</th>\n",
       "      <td>0.0000</td>\n",
       "      <td>Wed Mar 07 15:14:41 +0000 2018</td>\n",
       "      <td>0.000</td>\n",
       "      <td>1.000</td>\n",
       "      <td>0.000</td>\n",
       "      <td>$CELG</td>\n",
       "      <td>$CELG APR 95.00 Calls BUYING Activity https://...</td>\n",
       "      <td>3</td>\n",
       "    </tr>\n",
       "  </tbody>\n",
       "</table>\n",
       "</div>"
      ],
      "text/plain": [
       "    Compound                            Date  Negative  Neutral  Positive  \\\n",
       "0     0.0000  Thu Mar 08 11:55:03 +0000 2018     0.000    1.000     0.000   \n",
       "1    -0.5106  Wed Mar 07 17:28:47 +0000 2018     0.231    0.769     0.000   \n",
       "2     0.0000  Wed Mar 07 07:13:47 +0000 2018     0.000    1.000     0.000   \n",
       "3     0.0000  Thu Mar 08 19:08:23 +0000 2018     0.000    1.000     0.000   \n",
       "4     0.0000  Thu Mar 08 18:13:59 +0000 2018     0.000    1.000     0.000   \n",
       "5     0.0000  Thu Mar 08 18:12:33 +0000 2018     0.000    1.000     0.000   \n",
       "6     0.7269  Wed Mar 07 15:34:14 +0000 2018     0.000    0.711     0.289   \n",
       "7    -0.5106  Wed Mar 07 12:35:08 +0000 2018     0.231    0.769     0.000   \n",
       "8     0.0000  Thu Mar 08 09:21:29 +0000 2018     0.000    1.000     0.000   \n",
       "9    -0.5106  Wed Mar 07 18:20:08 +0000 2018     0.231    0.769     0.000   \n",
       "10    0.0000  Wed Mar 07 12:17:28 +0000 2018     0.000    1.000     0.000   \n",
       "11    0.0000  Wed Mar 07 11:34:44 +0000 2018     0.000    1.000     0.000   \n",
       "12    0.0000  Wed Mar 07 11:56:44 +0000 2018     0.000    1.000     0.000   \n",
       "13   -0.5106  Wed Mar 07 19:33:46 +0000 2018     0.231    0.769     0.000   \n",
       "14    0.0000  Wed Mar 07 15:24:59 +0000 2018     0.000    1.000     0.000   \n",
       "15    0.0000  Wed Mar 07 15:14:41 +0000 2018     0.000    1.000     0.000   \n",
       "\n",
       "   Symbol                                         Tweet Text  Tweets Ago  \n",
       "0    $BMY  Bank of America Increases Bristol-Myers Squibb...           1  \n",
       "1    $BMY  $BMY Max Pain is 66.00 for maturity 03/09/2018...           2  \n",
       "2    $BMY  Bristol-Myers Squibb $BMY PT Raised to $68.00 ...           3  \n",
       "3    $MRK  BMO Capital Markets Analysts Give Merck &amp; ...           1  \n",
       "4    $MRK  Merck &amp; Co., Inc. $MRK Given a $65.00 Pric...           2  \n",
       "5    $MRK  Merck &amp; Co., Inc. $MRK Given a $65.00 Pric...           3  \n",
       "6    $MRK  MRK continues to base near major support; http...           4  \n",
       "7    $MRK  $MRK Max Pain is 55.00 for maturity 03/09/2018...           5  \n",
       "8    $PFE  Pfizer $PFE Given a $43.00 Price Target at BMO...           1  \n",
       "9    $PFE  $PFE Max Pain is 36.00 for maturity 03/09/2018...           2  \n",
       "10   $PFE  $PFE\\n35.88 USD −0.25 (0.69%)\\nClosed: Mar 7, ...           3  \n",
       "11   $PFE  Pfizer $PFE PT Set at $43.00 by BMO Capital Ma...           4  \n",
       "12   $JNJ  $JNJ high OI range is 130.00 to 131.00 for opt...           1  \n",
       "13  $CELG  $CELG Max Pain is 90.00 for maturity 03/09/201...           1  \n",
       "14  $CELG  RT @SpeedyCalls: $CELG APR 95.00 Calls BUYING ...           2  \n",
       "15  $CELG  $CELG APR 95.00 Calls BUYING Activity https://...           3  "
      ]
     },
     "execution_count": 41,
     "metadata": {},
     "output_type": "execute_result"
    }
   ],
   "source": [
    "# Convert sentiments to DataFrame\n",
    "sentiments_df = pd.DataFrame.from_dict(sentiments)\n",
    "unique_sentiments_df = sentiments_df.drop_duplicates(\"Tweet Text\", keep = \"first\")\n",
    "unique_sentiments_df"
   ]
  },
  {
   "cell_type": "code",
   "execution_count": 42,
   "metadata": {},
   "outputs": [
    {
     "data": {
      "text/plain": [
       "Symbol\n",
       "$BMY    -0.17020\n",
       "$CELG   -0.17020\n",
       "$JNJ     0.00000\n",
       "$MRK     0.04326\n",
       "$PFE    -0.12765\n",
       "Name: Compound, dtype: float64"
      ]
     },
     "execution_count": 42,
     "metadata": {},
     "output_type": "execute_result"
    }
   ],
   "source": [
    "# Groupby average compound sentiments by Symbol\n",
    "ave_sentiment_by_company = unique_sentiments_df.groupby(\"Symbol\")[\"Compound\"].mean()\n",
    "ave_sentiment_by_company"
   ]
  },
  {
   "cell_type": "code",
   "execution_count": 43,
   "metadata": {},
   "outputs": [
    {
     "data": {
      "text/html": [
       "<div>\n",
       "<style>\n",
       "    .dataframe thead tr:only-child th {\n",
       "        text-align: right;\n",
       "    }\n",
       "\n",
       "    .dataframe thead th {\n",
       "        text-align: left;\n",
       "    }\n",
       "\n",
       "    .dataframe tbody tr th {\n",
       "        vertical-align: top;\n",
       "    }\n",
       "</style>\n",
       "<table border=\"1\" class=\"dataframe\">\n",
       "  <thead>\n",
       "    <tr style=\"text-align: right;\">\n",
       "      <th></th>\n",
       "      <th>Compound</th>\n",
       "    </tr>\n",
       "    <tr>\n",
       "      <th>Symbol</th>\n",
       "      <th></th>\n",
       "    </tr>\n",
       "  </thead>\n",
       "  <tbody>\n",
       "    <tr>\n",
       "      <th>$BMY</th>\n",
       "      <td>-0.17020</td>\n",
       "    </tr>\n",
       "    <tr>\n",
       "      <th>$CELG</th>\n",
       "      <td>-0.17020</td>\n",
       "    </tr>\n",
       "    <tr>\n",
       "      <th>$JNJ</th>\n",
       "      <td>0.00000</td>\n",
       "    </tr>\n",
       "    <tr>\n",
       "      <th>$MRK</th>\n",
       "      <td>0.04326</td>\n",
       "    </tr>\n",
       "    <tr>\n",
       "      <th>$PFE</th>\n",
       "      <td>-0.12765</td>\n",
       "    </tr>\n",
       "  </tbody>\n",
       "</table>\n",
       "</div>"
      ],
      "text/plain": [
       "        Compound\n",
       "Symbol          \n",
       "$BMY    -0.17020\n",
       "$CELG   -0.17020\n",
       "$JNJ     0.00000\n",
       "$MRK     0.04326\n",
       "$PFE    -0.12765"
      ]
     },
     "execution_count": 43,
     "metadata": {},
     "output_type": "execute_result"
    }
   ],
   "source": [
    "# Add to Pandas Dataframe\n",
    "ave_sentiment_by_company_df = pd.DataFrame(ave_sentiment_by_company)\n",
    "ave_sentiment_by_company_df"
   ]
  },
  {
   "cell_type": "code",
   "execution_count": 44,
   "metadata": {},
   "outputs": [
    {
     "data": {
      "text/html": [
       "<div>\n",
       "<style>\n",
       "    .dataframe thead tr:only-child th {\n",
       "        text-align: right;\n",
       "    }\n",
       "\n",
       "    .dataframe thead th {\n",
       "        text-align: left;\n",
       "    }\n",
       "\n",
       "    .dataframe tbody tr th {\n",
       "        vertical-align: top;\n",
       "    }\n",
       "</style>\n",
       "<table border=\"1\" class=\"dataframe\">\n",
       "  <thead>\n",
       "    <tr style=\"text-align: right;\">\n",
       "      <th></th>\n",
       "      <th>Symbol</th>\n",
       "      <th>Compound</th>\n",
       "    </tr>\n",
       "  </thead>\n",
       "  <tbody>\n",
       "    <tr>\n",
       "      <th>0</th>\n",
       "      <td>$BMY</td>\n",
       "      <td>-0.17020</td>\n",
       "    </tr>\n",
       "    <tr>\n",
       "      <th>1</th>\n",
       "      <td>$CELG</td>\n",
       "      <td>-0.17020</td>\n",
       "    </tr>\n",
       "    <tr>\n",
       "      <th>2</th>\n",
       "      <td>$JNJ</td>\n",
       "      <td>0.00000</td>\n",
       "    </tr>\n",
       "    <tr>\n",
       "      <th>3</th>\n",
       "      <td>$MRK</td>\n",
       "      <td>0.04326</td>\n",
       "    </tr>\n",
       "    <tr>\n",
       "      <th>4</th>\n",
       "      <td>$PFE</td>\n",
       "      <td>-0.12765</td>\n",
       "    </tr>\n",
       "  </tbody>\n",
       "</table>\n",
       "</div>"
      ],
      "text/plain": [
       "  Symbol  Compound\n",
       "0   $BMY  -0.17020\n",
       "1  $CELG  -0.17020\n",
       "2   $JNJ   0.00000\n",
       "3   $MRK   0.04326\n",
       "4   $PFE  -0.12765"
      ]
     },
     "execution_count": 44,
     "metadata": {},
     "output_type": "execute_result"
    }
   ],
   "source": [
    "# Reset index\n",
    "sentiment_df = ave_sentiment_by_company_df.reset_index(drop = False)\n",
    "sentiment_df"
   ]
  },
  {
   "cell_type": "code",
   "execution_count": 45,
   "metadata": {
    "scrolled": true
   },
   "outputs": [
    {
     "data": {
      "text/html": [
       "<div>\n",
       "<style>\n",
       "    .dataframe thead tr:only-child th {\n",
       "        text-align: right;\n",
       "    }\n",
       "\n",
       "    .dataframe thead th {\n",
       "        text-align: left;\n",
       "    }\n",
       "\n",
       "    .dataframe tbody tr th {\n",
       "        vertical-align: top;\n",
       "    }\n",
       "</style>\n",
       "<table border=\"1\" class=\"dataframe\">\n",
       "  <thead>\n",
       "    <tr style=\"text-align: right;\">\n",
       "      <th></th>\n",
       "      <th>Symbol</th>\n",
       "      <th>Compound</th>\n",
       "    </tr>\n",
       "  </thead>\n",
       "  <tbody>\n",
       "    <tr>\n",
       "      <th>0</th>\n",
       "      <td>BMY</td>\n",
       "      <td>-0.17020</td>\n",
       "    </tr>\n",
       "    <tr>\n",
       "      <th>1</th>\n",
       "      <td>CELG</td>\n",
       "      <td>-0.17020</td>\n",
       "    </tr>\n",
       "    <tr>\n",
       "      <th>2</th>\n",
       "      <td>JNJ</td>\n",
       "      <td>0.00000</td>\n",
       "    </tr>\n",
       "    <tr>\n",
       "      <th>3</th>\n",
       "      <td>MRK</td>\n",
       "      <td>0.04326</td>\n",
       "    </tr>\n",
       "    <tr>\n",
       "      <th>4</th>\n",
       "      <td>PFE</td>\n",
       "      <td>-0.12765</td>\n",
       "    </tr>\n",
       "  </tbody>\n",
       "</table>\n",
       "</div>"
      ],
      "text/plain": [
       "  Symbol  Compound\n",
       "0    BMY  -0.17020\n",
       "1   CELG  -0.17020\n",
       "2    JNJ   0.00000\n",
       "3    MRK   0.04326\n",
       "4    PFE  -0.12765"
      ]
     },
     "execution_count": 45,
     "metadata": {},
     "output_type": "execute_result"
    }
   ],
   "source": [
    "final_sentiment_df = sentiment_df.replace((\"$BMY\", \"$CELG\", \"$JNJ\", \"$MRK\", \"$PFE\"), \n",
    "                                        (\"BMY\", \"CELG\", \"JNJ\", \"MRK\", \"PFE\"))\n",
    "\n",
    "final_sentiment_df"
   ]
  },
  {
   "cell_type": "code",
   "execution_count": 46,
   "metadata": {
    "scrolled": true
   },
   "outputs": [
    {
     "data": {
      "text/html": [
       "<div>\n",
       "<style>\n",
       "    .dataframe thead tr:only-child th {\n",
       "        text-align: right;\n",
       "    }\n",
       "\n",
       "    .dataframe thead th {\n",
       "        text-align: left;\n",
       "    }\n",
       "\n",
       "    .dataframe tbody tr th {\n",
       "        vertical-align: top;\n",
       "    }\n",
       "</style>\n",
       "<table border=\"1\" class=\"dataframe\">\n",
       "  <thead>\n",
       "    <tr style=\"text-align: right;\">\n",
       "      <th></th>\n",
       "      <th>Symbol</th>\n",
       "      <th>Percent_Diff</th>\n",
       "      <th>Compound</th>\n",
       "    </tr>\n",
       "  </thead>\n",
       "  <tbody>\n",
       "    <tr>\n",
       "      <th>0</th>\n",
       "      <td>BMY</td>\n",
       "      <td>4.129</td>\n",
       "      <td>-0.170</td>\n",
       "    </tr>\n",
       "    <tr>\n",
       "      <th>1</th>\n",
       "      <td>CELG</td>\n",
       "      <td>3.391</td>\n",
       "      <td>-0.170</td>\n",
       "    </tr>\n",
       "    <tr>\n",
       "      <th>2</th>\n",
       "      <td>JNJ</td>\n",
       "      <td>4.308</td>\n",
       "      <td>0.000</td>\n",
       "    </tr>\n",
       "    <tr>\n",
       "      <th>3</th>\n",
       "      <td>MRK</td>\n",
       "      <td>1.810</td>\n",
       "      <td>0.043</td>\n",
       "    </tr>\n",
       "    <tr>\n",
       "      <th>4</th>\n",
       "      <td>PFE</td>\n",
       "      <td>2.781</td>\n",
       "      <td>-0.128</td>\n",
       "    </tr>\n",
       "  </tbody>\n",
       "</table>\n",
       "</div>"
      ],
      "text/plain": [
       "  Symbol  Percent_Diff  Compound\n",
       "0    BMY         4.129    -0.170\n",
       "1   CELG         3.391    -0.170\n",
       "2    JNJ         4.308     0.000\n",
       "3    MRK         1.810     0.043\n",
       "4    PFE         2.781    -0.128"
      ]
     },
     "execution_count": 46,
     "metadata": {},
     "output_type": "execute_result"
    }
   ],
   "source": [
    "# merge dataframes\n",
    "final_df = diff_df.merge(final_sentiment_df, how = \"outer\")\n",
    "final_df\n",
    "round(final_df, 3)"
   ]
  },
  {
   "cell_type": "code",
   "execution_count": 47,
   "metadata": {
    "collapsed": true
   },
   "outputs": [],
   "source": [
    "final_df.to_csv(\"table1.csv\", index = False)"
   ]
  },
  {
   "cell_type": "code",
   "execution_count": 48,
   "metadata": {
    "collapsed": true
   },
   "outputs": [],
   "source": [
    "# Colors\n",
    "colors = [\"green\", \"red\", \"blue\", \"orange\", \"maroon\"]\n",
    "\n",
    "# Define x-axis and xlabels\n",
    "x_axis = np.arange(len(final_df))\n",
    "x_labels = diff_df.index"
   ]
  },
  {
   "cell_type": "code",
   "execution_count": 55,
   "metadata": {
    "scrolled": true
   },
   "outputs": [
    {
     "data": {
      "image/png": "[encoded data removed]",
      "text/plain": [
       "<matplotlib.figure.Figure at 0x1a0c89bcc0>"
      ]
     },
     "metadata": {},
     "output_type": "display_data"
    }
   ],
   "source": [
    "# Plot bar graph and assign appropriate parameters\n",
    "plt.bar(x_axis, final_df[\"Percent_Diff\"], width = 1, tick_label = x_labels,\n",
    "        color = colors, alpha = 0.75, align = \"edge\", edgecolor = \"black\")\n",
    "\n",
    "tick_locations = [i+0.5 for i in x_axis]\n",
    "plt.xticks(tick_locations, [\"BMY\", \"CELG\", \"JNJ\", \"MRK\", \"PFE\"])\n",
    "\n",
    "# Chart Title, x-label and y-label\n",
    "plt.suptitle(\"Stock Price Change (%)\")\n",
    "plt.title(\"03-07-2018 to 03-09-2018\")\n",
    "plt.xlabel(\"Ticker Symbols\")\n",
    "plt.ylabel(\"Change in Stock Prices (%)\")\n",
    "\n",
    "# Export and save Bar plot\n",
    "plt.savefig(\"PriceChange.png\")\n",
    "\n",
    "# Print chart to the screen\n",
    "plt.show()"
   ]
  },
  {
   "cell_type": "code",
   "execution_count": 50,
   "metadata": {},
   "outputs": [
    {
     "data": {
      "image/png": "[encoded data removed]",
      "text/plain": [
       "<matplotlib.figure.Figure at 0x1a16578e10>"
      ]
     },
     "metadata": {},
     "output_type": "display_data"
    }
   ],
   "source": [
    "# Plot bar graph and assign appropriate parameters\n",
    "plt.bar(x_axis, final_df[\"Compound\"], width = 1, tick_label = x_labels,\n",
    "        color = colors, alpha = 0.75, align = \"edge\", edgecolor = \"black\")\n",
    "\n",
    "tick_locations = [i+0.5 for i in x_axis]\n",
    "plt.xticks(tick_locations, [\"BMY\", \"CELG\", \"JNJ\", \"MRK\", \"PFE\"])\n",
    "\n",
    "# Chart Title, x-label and y-label\n",
    "plt.suptitle(\"Sentiment Analysis of Pharma stocks\")\n",
    "plt.title(\"03-07-2018 to 03-09-2018\")\n",
    "plt.xlabel(\"Ticker Symbols\")\n",
    "plt.ylabel(\"Tweet Polarity\")\n",
    "\n",
    "# Export and save Bar plot\n",
    "plt.savefig(\"Sentiment.png\")\n",
    "\n",
    "# Print chart to the screen\n",
    "plt.show()"
   ]
  },
  {
   "cell_type": "code",
   "execution_count": 51,
   "metadata": {},
   "outputs": [
    {
     "data": {
      "text/plain": [
       "-0.39433683070848308"
      ]
     },
     "execution_count": 51,
     "metadata": {},
     "output_type": "execute_result"
    }
   ],
   "source": [
    "corr = final_df[\"Percent_Diff\"].corr(final_df[\"Compound\"])\n",
    "corr"
   ]
  },
  {
   "cell_type": "code",
   "execution_count": 52,
   "metadata": {},
   "outputs": [
    {
     "data": {
      "text/plain": [
       "[<matplotlib.lines.Line2D at 0x1a0c97c9b0>]"
      ]
     },
     "execution_count": 52,
     "metadata": {},
     "output_type": "execute_result"
    }
   ],
   "source": [
    "x = final_df[\"Percent_Diff\"]\n",
    "y = final_df[\"Compound\"]\n",
    "fit = np.polyfit(x, y, 1)\n",
    "fit_fn = np.poly1d(fit)\n",
    "plt.plot(x, fit_fn(x), color = 'black')"
   ]
  },
  {
   "cell_type": "code",
   "execution_count": 53,
   "metadata": {
    "scrolled": true
   },
   "outputs": [
    {
     "data": {
      "image/png": "[encoded data removed]",
      "text/plain": [
       "<matplotlib.figure.Figure at 0x1a15f77b00>"
      ]
     },
     "metadata": {},
     "output_type": "display_data"
    }
   ],
   "source": [
    "# Scatter Correlation plot\n",
    "plt.scatter(final_df[\"Percent_Diff\"], final_df[\"Compound\"],\n",
    "         s = 100, color = colors, edgecolor = \"black\")\n",
    "\n",
    "plt.suptitle(\"Correlation between Stock Price change and Sentiment\")\n",
    "plt.title(\"03-07-2018 to 03-09-2018\")\n",
    "plt.xlabel(\"Stock Price Change (%)\")\n",
    "plt.ylabel(\"Tweet Polarity\")\n",
    "\n",
    "# Export and save scatter plot\n",
    "plt.savefig(\"Correlation.png\")\n",
    "\n",
    "# Print chart to the screen\n",
    "plt.show()"
   ]
  },
  {
   "cell_type": "code",
   "execution_count": 54,
   "metadata": {},
   "outputs": [
    {
     "data": {
      "text/plain": [
       "-0.39433683070848308"
      ]
     },
     "execution_count": 54,
     "metadata": {},
     "output_type": "execute_result"
    }
   ],
   "source": [
    "corr = final_df[\"Percent_Diff\"].corr(final_df[\"Compound\"])\n",
    "corr"
   ]
  },
  {
   "cell_type": "code",
   "execution_count": null,
   "metadata": {
    "collapsed": true
   },
   "outputs": [],
   "source": []
  }
 ],
 "metadata": {
  "kernelspec": {
   "display_name": "Python 3",
   "language": "python",
   "name": "python3"
  },
  "language_info": {
   "codemirror_mode": {
    "name": "ipython",
    "version": 3
   },
   "file_extension": ".py",
   "mimetype": "text/x-python",
   "name": "python",
   "nbconvert_exporter": "python",
   "pygments_lexer": "ipython3",
   "version": "3.6.3"
  }
 },
 "nbformat": 4,
 "nbformat_minor": 2
}
